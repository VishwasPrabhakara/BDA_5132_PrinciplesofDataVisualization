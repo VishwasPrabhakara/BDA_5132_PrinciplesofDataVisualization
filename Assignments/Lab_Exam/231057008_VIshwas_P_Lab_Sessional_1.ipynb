{
 "cells": [
  {
   "cell_type": "code",
   "execution_count": 8,
   "metadata": {},
   "outputs": [
    {
     "name": "stdout",
     "output_type": "stream",
     "text": [
      "Saved successfully\n"
     ]
    }
   ],
   "source": [
    "import requests\n",
    "from bs4 import BeautifulSoup\n",
    "import csv\n",
    "\n",
    "base_url = \"https://www.snapdeal.com/products/men-apparel-outerwear-jackets?sort=plrty&page=\"\n",
    "\n",
    "num_pages = 10\n",
    "all_product_data = []\n",
    "total_items_scraped = 0\n",
    "\n",
    "for page in range(1, num_pages + 1):\n",
    "    url = base_url + str(page)\n",
    "\n",
    "    response = requests.get(url)\n",
    "\n",
    "    soup = BeautifulSoup(response.text, 'html.parser')\n",
    "\n",
    "    product_listings = soup.find_all('div', class_='product-tuple-description')\n",
    "    page_product_data = []\n",
    "    for product in product_listings:\n",
    "        product_name_tag = product.find('p', class_='product-title')\n",
    "        product_name = product_name_tag.get('title') \n",
    "        \n",
    "        brand_name = product_name.split(' ', 1)[0]\n",
    "\n",
    "        original_price_tag = product.find('span', class_='lfloat product-desc-price strike')\n",
    "        discounted_price_tag = product.find('span', class_='lfloat product-price')\n",
    "            \n",
    "        original_price = original_price_tag.text.strip() \n",
    "        discounted_price = discounted_price_tag.text.strip() \n",
    "\n",
    "        original_price = original_price.split(' ', 1)[1].replace(',', '').strip() \n",
    "        discounted_price = discounted_price.split(' ', 1)[1].replace(',', '').strip() \n",
    "\n",
    "        original_price = float(original_price) \n",
    "        discounted_price = float(discounted_price) \n",
    "\n",
    "        percentage_discount = ((original_price - discounted_price) / original_price) * 100\n",
    "\n",
    "        page_product_data.append([brand_name, product_name, original_price, discounted_price, percentage_discount])\n",
    "\n",
    "        items_on_page = len(page_product_data)\n",
    "        total_items_scraped += items_on_page\n",
    "\n",
    "        all_product_data.extend(page_product_data)\n",
    "\n",
    "        \n",
    "\n",
    "    \n",
    "\n",
    "with open('jackets.csv', 'w', newline='') as csvfile:\n",
    "    csv_writer = csv.writer(csvfile)\n",
    "    csv_writer.writerow(['Brand Name', 'Product Name', 'Original Price', 'Discounted Price', 'Percentage Discount'])\n",
    "    csv_writer.writerows(all_product_data)\n",
    "\n",
    "print(\"Saved successfully\")\n"
   ]
  }
 ],
 "metadata": {
  "kernelspec": {
   "display_name": "Python 3",
   "language": "python",
   "name": "python3"
  },
  "language_info": {
   "codemirror_mode": {
    "name": "ipython",
    "version": 3
   },
   "file_extension": ".py",
   "mimetype": "text/x-python",
   "name": "python",
   "nbconvert_exporter": "python",
   "pygments_lexer": "ipython3",
   "version": "3.9.17"
  }
 },
 "nbformat": 4,
 "nbformat_minor": 2
}
