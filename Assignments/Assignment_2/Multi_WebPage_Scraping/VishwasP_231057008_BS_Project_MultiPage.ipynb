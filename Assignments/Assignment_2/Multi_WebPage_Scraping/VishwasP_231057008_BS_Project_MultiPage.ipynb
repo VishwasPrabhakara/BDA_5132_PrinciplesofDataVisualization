{
 "cells": [
  {
   "cell_type": "code",
   "execution_count": 12,
   "metadata": {},
   "outputs": [],
   "source": [
    "from bs4 import BeautifulSoup\n",
    "import requests\n",
    "import pandas as pd\n",
    "from fake_useragent import UserAgent\n",
    "\n",
    "user_agent = UserAgent()\n",
    "main_url = \"https://stackoverflow.com/questions/tagged/python\"\n",
    "\n",
    "\n",
    "page_limit = 5\n",
    "page_number = 1\n",
    "\n",
    "\n",
    "scraped_data = []\n",
    "def question_scrape(next_url):\n",
    "    page = requests.get(next_url,user_agent.chrome)\n",
    "    soup = BeautifulSoup(page.text,'lxml')\n",
    "    all_divs = soup.find_all('div',class_='s-post-summary')\n",
    "    for div in all_divs:\n",
    "        question_link = f\"https://stackoverflow.com/\"+ div.find('a').get('href')+\"/\"\n",
    "        question = div.find('h3',{'class':'s-post-summary--content-title'}).text.strip('\\n')\n",
    "        votes_count = div.find('div',{'class':'s-post-summary--stats-item s-post-summary--stats-item__emphasized'}).text.split('\\n')[1] + \" votes\"\n",
    "        answers_count = div.find_all('span',{'class':'s-post-summary--stats-item-number'})[1].text + \" answers\"\n",
    "        views_count = div.find_all('span',{'class':'s-post-summary--stats-item-number'})[2].text + \" views\"\n",
    "        user_name = div.find('div',{'class':'s-user-card--link'}).contents[1].text\n",
    "        \n",
    "        data = [question_link,question,votes_count,answers_count,views_count,user_name]\n",
    "        scraped_data.append(data)    \n",
    "\n",
    "    \n",
    "    scraped_data_df = pd.DataFrame(scraped_data,columns=['Question Link','Question','Votes Count','Answers Count','Views Count','Username'])\n",
    "    scraped_data_df.index+=1\n",
    "\n",
    "    scraped_data_df.to_csv('Stack_Questions.csv',index=True)\n",
    "\n",
    "\n",
    "while page_number <= page_limit :\n",
    "    url = main_url + \"?tab=newest&page=\" + str(page_number)\n",
    "    question_scrape(url)\n",
    "    page_number+=1\n"
   ]
  }
 ],
 "metadata": {
  "kernelspec": {
   "display_name": "pycaretenv",
   "language": "python",
   "name": "python3"
  },
  "language_info": {
   "codemirror_mode": {
    "name": "ipython",
    "version": 3
   },
   "file_extension": ".py",
   "mimetype": "text/x-python",
   "name": "python",
   "nbconvert_exporter": "python",
   "pygments_lexer": "ipython3",
   "version": "3.9.17"
  },
  "orig_nbformat": 4
 },
 "nbformat": 4,
 "nbformat_minor": 2
}
